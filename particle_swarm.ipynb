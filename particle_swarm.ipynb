{
 "cells": [
  {
   "cell_type": "code",
   "execution_count": 33,
   "metadata": {},
   "outputs": [],
   "source": [
    "import numpy as np\n",
    "import math\n",
    "from tabulate import tabulate\n",
    "\n",
    "def particle_swarm(S, x_ini, iterations, w, C1, C2, random_num):\n",
    "\n",
    "    def f(x):\n",
    "        # Change for specific problem\n",
    "        return -x[0]**3 +3*x[0] - x[1]**2\n",
    "    \n",
    "    #Initialize swarm:\n",
    "    x = np.array((S, 2))\n",
    "    x = x_ini\n",
    "    velocities = np.zeros((S, 2))\n",
    "    p_best = np.array((S, 2))\n",
    "    p_best = np.copy(x_ini)\n",
    "    x_opt = x[0]\n",
    "    answer_table = []\n",
    "    f_values = []\n",
    "\n",
    "    for i in range(S):\n",
    "        f_values.append(np.round(f(x[i]), 3))\n",
    "        if f(x[i]) > f(x_opt):\n",
    "            x_opt = x[i]\n",
    "\n",
    "    for t in range(iterations):\n",
    "        row = [t, str(x), str(p_best), str(x_opt), str(velocities), str(f_values)]\n",
    "        f_values.clear()\n",
    "        \n",
    "        for i in range(S):   \n",
    "            p1 = random_num.pop(0)\n",
    "            p2 = random_num.pop(0)         \n",
    "            velocities[i][0] = w*velocities[i][0] + p1*C1*(p_best[i][0] - x[i][0]) + p2*C2*(x_opt[0] - x[i][0])\n",
    "            p1 = random_num.pop(0)\n",
    "            p2 = random_num.pop(0)\n",
    "            velocities[i][1] = w*velocities[i][1] + p1*C1*(p_best[i][1] - x[i][1]) + p2*C2*(x_opt[1] - x[i][1])\n",
    "            x[i] = x[i] + velocities[i]\n",
    "\n",
    "            #Change for specific problem\n",
    "            if f(x[i]) > f(p_best[i]):\n",
    "                p_best[i] = x[i]\n",
    "        # Change for specific problem\n",
    "        for i in range(S):\n",
    "            if f(x[i]) > f(x_opt):\n",
    "                x_opt = x[i]\n",
    "            f_values.append(np.round(f(x[i]), 3))\n",
    "        answer_table.append(row)        \n",
    "    print(tabulate(answer_table, headers=['t','Particles', 'p_best', 'x_opt','Velocities','Objective function values'], tablefmt='fancy_grid'))\n",
    "    print(str(x))\n",
    "    print(str(x_opt))\n",
    "    print(str(velocities))\n",
    "    \n",
    "\n",
    "    "
   ]
  },
  {
   "cell_type": "code",
   "execution_count": 34,
   "metadata": {},
   "outputs": [
    {
     "name": "stdout",
     "output_type": "stream",
     "text": [
      "╒═════╤═════════════════════╤═════════════════════╤═══════════╤═══════════════════╤════════════════════════════════════════╕\n",
      "│   t │ Particles           │ p_best              │ x_opt     │ Velocities        │ Objective function values              │\n",
      "╞═════╪═════════════════════╪═════════════════════╪═══════════╪═══════════════════╪════════════════════════════════════════╡\n",
      "│   0 │ [[ 0.3 -0.2]        │ [[ 0.3 -0.2]        │ [0.9 0.7] │ [[0. 0.]          │ [0.833, -2.221, -1.386, 1.481, -1.386] │\n",
      "│     │  [-0.9  0.5]        │  [-0.9  0.5]        │           │  [0. 0.]          │                                        │\n",
      "│     │  [-0.4  0.5]        │  [-0.4  0.5]        │           │  [0. 0.]          │                                        │\n",
      "│     │  [ 0.9  0.7]        │  [ 0.9  0.7]        │           │  [0. 0.]          │                                        │\n",
      "│     │  [-0.4 -0.5]]       │  [-0.4 -0.5]]       │           │  [0. 0.]]         │                                        │\n",
      "├─────┼─────────────────────┼─────────────────────┼───────────┼───────────────────┼────────────────────────────────────────┤\n",
      "│   1 │ [[ 0.3384 -0.1064]  │ [[ 0.3384 -0.1064]  │ [0.9 0.7] │ [[0.0384 0.0936]  │ [0.965, -2.127, -0.763, 1.481, -0.712] │\n",
      "│     │  [-0.7884  0.5016]  │  [-0.7884  0.5016]  │           │  [0.1116 0.0016]  │                                        │\n",
      "│     │  [-0.1634  0.526 ]  │  [-0.1634  0.526 ]  │           │  [0.2366 0.026 ]  │                                        │\n",
      "│     │  [ 0.9     0.7   ]  │  [ 0.9     0.7   ]  │           │  [0.     0.    ]  │                                        │\n",
      "│     │  [-0.1634 -0.476 ]] │  [-0.1634 -0.476 ]] │           │  [0.2366 0.024 ]] │                                        │\n",
      "╘═════╧═════════════════════╧═════════════════════╧═══════════╧═══════════════════╧════════════════════════════════════════╛\n",
      "[[ 0.430896   0.1233088]\n",
      " [-0.3715704  0.5223232]\n",
      " [ 0.0556552  0.578816 ]\n",
      " [ 0.9        0.7      ]\n",
      " [ 0.2236724 -0.278048 ]]\n",
      "[0.9 0.7]\n",
      "[[0.092496  0.2297088]\n",
      " [0.4168296 0.0207232]\n",
      " [0.2190552 0.052816 ]\n",
      " [0.        0.       ]\n",
      " [0.3870724 0.197952 ]]\n"
     ]
    }
   ],
   "source": [
    "x_initial = np.array([[0.3, -0.2], [-0.9, 0.5], [-0.4, 0.5], [0.9, 0.7], [-0.4, -0.5]])\n",
    "random_num = [0.43, 0.32, 0.77, 0.52, 0.45, 0.31, 0.98, 0.04, 0.89, 0.91, 0.46, 0.65, 0.12, 0.68, 0.81, 0.91, 0.13, 0.91, 0.63, 0.10, 0.28, 0.55, 0.96, 0.96, 0.16, 0.97, 0.96, 0.49, 0.80, 0.14, 0.42, 0.92, 0.79, 0.96, 0.66, 0.04, 0.85, 0.93, 0.68, 0.76, 0.74, 0.39, 0.66, 0.17]\n",
    "particle_swarm(5, x_initial, 2, 0.8, 0.2, 0.2, random_num)"
   ]
  }
 ],
 "metadata": {
  "kernelspec": {
   "display_name": "Python 3",
   "language": "python",
   "name": "python3"
  },
  "language_info": {
   "codemirror_mode": {
    "name": "ipython",
    "version": 3
   },
   "file_extension": ".py",
   "mimetype": "text/x-python",
   "name": "python",
   "nbconvert_exporter": "python",
   "pygments_lexer": "ipython3",
   "version": "3.11.9"
  }
 },
 "nbformat": 4,
 "nbformat_minor": 2
}
